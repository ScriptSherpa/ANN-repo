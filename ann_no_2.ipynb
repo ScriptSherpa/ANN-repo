{
  "nbformat": 4,
  "nbformat_minor": 0,
  "metadata": {
    "colab": {
      "provenance": [],
      "authorship_tag": "ABX9TyNhyN4QgizH4g7/ILVe+3wO",
      "include_colab_link": true
    },
    "kernelspec": {
      "name": "python3",
      "display_name": "Python 3"
    },
    "language_info": {
      "name": "python"
    }
  },
  "cells": [
    {
      "cell_type": "markdown",
      "metadata": {
        "id": "view-in-github",
        "colab_type": "text"
      },
      "source": [
        "<a href=\"https://colab.research.google.com/github/ScriptSherpa/ANN-repo/blob/main/ann_no_2.ipynb\" target=\"_parent\"><img src=\"https://colab.research.google.com/assets/colab-badge.svg\" alt=\"Open In Colab\"/></a>"
      ]
    },
    {
      "cell_type": "code",
      "execution_count": 1,
      "metadata": {
        "colab": {
          "base_uri": "https://localhost:8080/"
        },
        "id": "OT40zoLhshlZ",
        "outputId": "50922364-d319-458c-cfc8-0720494ae7ae"
      },
      "outputs": [
        {
          "output_type": "stream",
          "name": "stdout",
          "text": [
            "0\n",
            "1\n",
            "0\n",
            "0\n"
          ]
        }
      ],
      "source": [
        "\n",
        "import numpy as np\n",
        "def mp_neuron(inputs, weights, threshold):\n",
        "    weighted_sum = np.dot(inputs, weights)\n",
        "    output = 1 if weighted_sum >= threshold else 0\n",
        "    return output\n",
        "def and_not(x1, x2):\n",
        "    weights = [1, -1]\n",
        "    threshold = 1\n",
        "    inputs = np.array([x1, x2])\n",
        "    output = mp_neuron(inputs, weights, threshold)\n",
        "    return output\n",
        "print(and_not(0, 0))\n",
        "print(and_not(1, 0))\n",
        "print(and_not(0, 1))\n",
        "print(and_not(1, 1))\n"
      ]
    }
  ]
}