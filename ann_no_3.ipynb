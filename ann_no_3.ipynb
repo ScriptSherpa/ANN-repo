{
  "nbformat": 4,
  "nbformat_minor": 0,
  "metadata": {
    "colab": {
      "provenance": [],
      "authorship_tag": "ABX9TyNxgelrdyxqqBFMI0kjvQtb",
      "include_colab_link": true
    },
    "kernelspec": {
      "name": "python3",
      "display_name": "Python 3"
    },
    "language_info": {
      "name": "python"
    }
  },
  "cells": [
    {
      "cell_type": "markdown",
      "metadata": {
        "id": "view-in-github",
        "colab_type": "text"
      },
      "source": [
        "<a href=\"https://colab.research.google.com/github/ScriptSherpa/ANN-repo/blob/main/ann_no_3.ipynb\" target=\"_parent\"><img src=\"https://colab.research.google.com/assets/colab-badge.svg\" alt=\"Open In Colab\"/></a>"
      ]
    },
    {
      "cell_type": "code",
      "execution_count": null,
      "metadata": {
        "colab": {
          "base_uri": "https://localhost:8080/"
        },
        "id": "_0nnFejBsRuW",
        "outputId": "72177d12-3c71-4070-fa9f-0e4c7f75a142"
      },
      "outputs": [
        {
          "output_type": "stream",
          "name": "stdout",
          "text": [
            "Enter a Number (0-9): 9\n",
            "9  is  odd\n"
          ]
        }
      ],
      "source": [
        " # NIKHIL MALVI\n",
        " # B 51\n",
        "import numpy as np\n",
        "\n",
        "j = int(input(\"Enter a Number (0-9): \"))\n",
        "step_function = lambda x: 1 if x >= 0 else 0\n",
        "\n",
        "training_data = [\n",
        "    {'input': [1, 1, 0, 0, 0, 0], 'label': 1},\n",
        "    {'input': [1, 1, 0, 0, 0, 1], 'label': 0},\n",
        "    {'input': [1, 1, 0, 0, 1, 0], 'label': 1},\n",
        "    {'input': [1, 1, 0, 1, 1, 1], 'label': 0},\n",
        "    {'input': [1, 1, 0, 1, 0, 0], 'label': 1},\n",
        "    {'input': [1, 1, 0, 1, 0, 1], 'label': 0},\n",
        "    {'input': [1, 1, 0, 1, 1, 0], 'label': 1},\n",
        "    {'input': [1, 1, 0, 1, 1, 1], 'label': 0},\n",
        "    {'input': [1, 1, 1, 0, 0, 0], 'label': 1},\n",
        "    {'input': [1, 1, 1, 0, 0, 1], 'label': 0},\n",
        "]\n",
        "\n",
        "weights = np.array([0, 0, 0, 0, 0, 1])\n",
        "\n",
        "for data in training_data:\n",
        "    input = np.array(data['input'])\n",
        "    label = data['label']\n",
        "    output = step_function(np.dot(input, weights))\n",
        "    error = label - output\n",
        "    weights += input * error\n",
        "\n",
        "input = np.array([int(x) for x in list('{0:06b}'.format(j))])\n",
        "output = \"odd\" if step_function(np.dot(input, weights)) == 0 else \"even\"\n",
        "print(j, \" is \", output)\n",
        "\n"
      ]
    }
  ]
}