{
  "nbformat": 4,
  "nbformat_minor": 0,
  "metadata": {
    "colab": {
      "provenance": [],
      "authorship_tag": "ABX9TyNByTtYkdUgl1bfTN+JX7FZ",
      "include_colab_link": true
    },
    "kernelspec": {
      "name": "python3",
      "display_name": "Python 3"
    },
    "language_info": {
      "name": "python"
    }
  },
  "cells": [
    {
      "cell_type": "markdown",
      "metadata": {
        "id": "view-in-github",
        "colab_type": "text"
      },
      "source": [
        "<a href=\"https://colab.research.google.com/github/ScriptSherpa/ANN-repo/blob/main/ann_no_5.ipynb\" target=\"_parent\"><img src=\"https://colab.research.google.com/assets/colab-badge.svg\" alt=\"Open In Colab\"/></a>"
      ]
    },
    {
      "cell_type": "code",
      "execution_count": 3,
      "metadata": {
        "colab": {
          "base_uri": "https://localhost:8080/"
        },
        "id": "_0nnFejBsRuW",
        "outputId": "d02ed2c2-6130-43c5-fa1d-f75b4c6e143c"
      },
      "outputs": [
        {
          "output_type": "stream",
          "name": "stdout",
          "text": [
            "Input x: [ 1 -1 -1 -1]\n",
            "Output y: [ 1 -1]\n"
          ]
        }
      ],
      "source": [
        "# NIKHIL MALVI\n",
        "# B 51\n",
        "import numpy as np\n",
        "X = np.array([[1, 1, 1, -1], [-1, -1, 1, 1]])\n",
        "Y = np.array([[1, -1], [-1, 1]])\n",
        "W = np.dot(Y.T, X)\n",
        "\n",
        "def bam(x):\n",
        "    return np.sign(np.dot(W, x))\n",
        "\n",
        "x_test = np.array([1, -1, -1, -1])\n",
        "y_test = bam(x_test)\n",
        "\n",
        "\n",
        "print(\"Input x:\", x_test)\n",
        "print(\"Output y:\", y_test)"
      ]
    }
  ]
}